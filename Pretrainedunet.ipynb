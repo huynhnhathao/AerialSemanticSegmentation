{
  "nbformat": 4,
  "nbformat_minor": 0,
  "metadata": {
    "colab": {
      "name": "Pretrainedunet.ipynb",
      "provenance": []
    },
    "kernelspec": {
      "name": "python3",
      "display_name": "Python 3"
    },
    "accelerator": "GPU"
  },
  "cells": [
    {
      "cell_type": "code",
      "metadata": {
        "id": "xTbx07B7YahI",
        "colab_type": "code",
        "colab": {}
      },
      "source": [
        "#Dice loss\n",
        "def dice_coef(y_true, y_pred, smooth=1):\n",
        "    \"\"\"\n",
        "    Dice = (2*|X & Y|)/ (|X|+ |Y|)\n",
        "         =  2*sum(|A*B|)/(sum(A^2)+sum(B^2))\n",
        "    ref: https://arxiv.org/pdf/1606.04797v1.pdf\n",
        "    \"\"\"\n",
        "    intersection = K.sum(K.abs(y_true * y_pred), axis=-1)\n",
        "    return (2. * intersection + smooth) / (K.sum(K.square(y_true),-1) + K.sum(K.square(y_pred),-1) + smooth)\n",
        "\n",
        "def dice_coef_loss(y_true, y_pred):\n",
        "    return 1-dice_coef(y_true, y_pred)\n",
        "#IoU\n",
        "# from keras import backend as K\n",
        "# def iou(y_true, y_pred, smooth = 1):\n"
      ],
      "execution_count": 1,
      "outputs": []
    },
    {
      "cell_type": "code",
      "metadata": {
        "id": "AqnHIp7Kwwou",
        "colab_type": "code",
        "colab": {
          "base_uri": "https://localhost:8080/",
          "height": 35
        },
        "outputId": "c1eacc5e-7fa1-4bbf-956d-0302b02e4c7f"
      },
      "source": [
        "from keras.preprocessing.image import ImageDataGenerator\n",
        "def adjustData(img,mask, num_class = 23):\n",
        "  img = img.astype(np.float32)\n",
        "  img/= 255.0\n",
        "  new_mask = np.zeros((mask.shape[0],mask.shape[1], mask.shape[2], num_class))\n",
        "  for i in range(mask.shape[0]):\n",
        "    this_mask = mask[i,:,:,0]\n",
        "   \n",
        "    for c in range(num_class):\n",
        "      new_mask[i,:,:,c] = (this_mask == c).astype('int')\n",
        "\n",
        "    return img, new_mask\n",
        "\n",
        "def trainGenerator(batch_size,train_path,image_folder,mask_folder,aug_dict,image_color_mode = \"rgb\",\n",
        "                    mask_color_mode = \"grayscale\",image_save_prefix  = \"image\",mask_save_prefix  = \"mask\",\n",
        "                    flag_multi_class = False,num_class = 23,save_to_dir = None,target_size = (256,256),seed = 1):\n",
        "    '''\n",
        "    can generate image and mask at the same time\n",
        "    use the same seed for image_datagen and mask_datagen to ensure the transformation for image and mask is the same\n",
        "    if you want to visualize the results of generator, set save_to_dir = \"your path\"\n",
        "    '''\n",
        "    image_datagen = ImageDataGenerator(**aug_dict)\n",
        "    mask_datagen = ImageDataGenerator(**aug_dict)\n",
        "    image_generator = image_datagen.flow_from_directory(\n",
        "        train_path,\n",
        "        classes = [image_folder],\n",
        "        class_mode = None,\n",
        "        color_mode = image_color_mode,\n",
        "        target_size = target_size,\n",
        "        batch_size = batch_size,\n",
        "        save_to_dir = save_to_dir,\n",
        "        save_prefix  = image_save_prefix,\n",
        "        seed = seed)\n",
        "    mask_generator = mask_datagen.flow_from_directory(\n",
        "        train_path,\n",
        "        classes = [mask_folder],\n",
        "        class_mode = None,\n",
        "        color_mode = mask_color_mode,\n",
        "        target_size = target_size,\n",
        "        batch_size = batch_size,\n",
        "        save_to_dir = save_to_dir,\n",
        "        save_prefix  = mask_save_prefix,\n",
        "        seed = seed)\n",
        "    train_generator = zip(image_generator, mask_generator)\n",
        "    for (img,mask) in train_generator:\n",
        "       \n",
        "        img,mask = adjustData(img,mask,num_class)\n",
        "        yield (img,mask)\n",
        "def valGenerator(val_path,image_folder = 'image', mask_folder= 'mask' ,num_class = 23,image_color_mode = 'rgb',mask_color_mode = 'grayscale',\n",
        "                  batch_size = 5,target_size = (256,256),as_gray = True, seed = 1):\n",
        "  \n",
        "  image_datagen = ImageDataGenerator()\n",
        "  mask_datagen  = ImageDataGenerator()\n",
        "  image_generator = image_datagen.flow_from_directory(val_path, \n",
        "                                                      classes = [image_folder],\n",
        "                                                      color_mode = image_color_mode,\n",
        "                                                      class_mode = None,\n",
        "                                                      target_size = target_size,\n",
        "                                                      batch_size = batch_size,\n",
        "                                                      seed = seed)\n",
        "  mask_generator = mask_datagen.flow_from_directory(val_path, \n",
        "                                classes = [mask_folder],\n",
        "                                color_mode = mask_color_mode, \n",
        "                                class_mode = None, \n",
        "                                target_size = (256,256),\n",
        "                                batch_size = batch_size,\n",
        "                                seed = seed\n",
        "                                )\n",
        "  val_generator = zip(image_generator, mask_generator)\n",
        "  for (img,mask) in val_generator:\n",
        "    img,mask = adjustData(img, mask, num_class = num_class)\n",
        "    yield (img, mask)\n",
        "\n",
        "\n"
      ],
      "execution_count": 2,
      "outputs": [
        {
          "output_type": "stream",
          "text": [
            "Using TensorFlow backend.\n"
          ],
          "name": "stderr"
        }
      ]
    },
    {
      "cell_type": "code",
      "metadata": {
        "id": "WvHV0OfwwzIY",
        "colab_type": "code",
        "colab": {}
      },
      "source": [
        "args = dict(rotation_range = 0.05, width_shift_range = 0.05,height_shift_range = 0.05,\n",
        "            shear_range=0.05, zoom_range = 0.05)\n",
        "#args = dict()\n",
        "train_generator_ = trainGenerator(5, '/content/drive/My Drive/data/train/', 'image','mask', args,num_class = 23 ,image_color_mode='grayscale' )\n",
        "val_generator_ = valGenerator('/content/drive/My Drive/data/test/','image', 'mask',23 , image_color_mode='grayscale') "
      ],
      "execution_count": 3,
      "outputs": []
    },
    {
      "cell_type": "code",
      "metadata": {
        "id": "HFyjpWiNawjC",
        "colab_type": "code",
        "colab": {}
      },
      "source": [
        "from keras.models import *\n",
        "from keras.layers import *\n",
        "from keras.applications.vgg16 import VGG16 as vgg16\n",
        "def pretrained_encoder_unet( input_shape = (512,512,3)):\n",
        "  encoder = vgg16(input_shape = (512,512,3),include_top = False, weights = 'imagenet')\n",
        "  encoder.trainable = False  \n",
        "\n",
        "  #EXPANSIVE PART\n",
        "  #(16,16,512)\n",
        "  up1 =Conv2DTranspose(256, (2, 2), strides=(2, 2), padding='same')(encoder.layers[18].output) \n",
        "  #(32,32,256)\n",
        "  up1 = concatenate([up1, encoder.layers[17].output])# up1(32,32,256)  concatenate with (32,32,512)  = (32,32,768)\n",
        "  conv1 = Conv2D(256, (3, 3), activation='relu', kernel_initializer='he_normal', padding='same')(up1) # (32,32,256)\n",
        "  drop1 = Dropout(0.2)(conv1)\n",
        "  conv1 = Conv2D(256, (3, 3), activation='relu', kernel_initializer='he_normal', padding='same')(drop1)\n",
        "\n",
        "  #(32,32,256)\n",
        "  up2 = Conv2DTranspose(128, (2,2), strides = (2,2), padding = 'same')(conv1)\n",
        "  #(64,64,128)\n",
        "  up2 = concatenate([up2, encoder.layers[13].output ]) # up2(64,64,128) concatenate with (64,64,512) = (64,64,640)\n",
        "  conv2 = Conv2D(128, (3, 3), activation='relu', kernel_initializer='he_normal', padding='same')(up2)\n",
        "  #(64,64,128)\n",
        "  drop2 = Dropout(0.4)(conv2)\n",
        "  conv2 = Conv2D(128, (3, 3), activation='relu', kernel_initializer='he_normal', padding='same')(drop2)\n",
        "\n",
        "  #(64,64,128)\n",
        "  up3 = Conv2DTranspose(64, (2, 2), strides=(2, 2), padding='same')(conv2)\n",
        "  #(128,128,64)\n",
        "  up3 = concatenate([up3,encoder.layers[9].output]) #up3(128,128,64) concatenate with (128,128,256) = (128,128,320)\n",
        "  conv3 = Conv2D(64, (3, 3), activation='relu', kernel_initializer='he_normal', padding='same')(up3)\n",
        "  drop3 = Dropout(0.1)(conv3)\n",
        "  conv3 = Conv2D(64, (3, 3), activation='relu', kernel_initializer='he_normal', padding='same')(drop3)\n",
        "\n",
        "  #(128,128,64)\n",
        "  up4 = Conv2DTranspose(32, (2, 2), strides=(2, 2), padding='same')(conv3)\n",
        "  #(256,256, 32)\n",
        "  up4 = concatenate([up4,encoder.layers[5].output ]) #up4(256,256,32) concatenate with (256,256,128) = (256,256,160)\n",
        "  conv4 = Conv2D(32, (3, 3), activation='relu', kernel_initializer='he_normal', padding='same')(up4)\n",
        "  drop4 = Dropout(0.1)(conv4)\n",
        "  conv4 = Conv2D(32, (3, 3), activation='relu', kernel_initializer='he_normal', padding='same')(drop4)\n",
        "\n",
        "  #(256,256,32)\n",
        "  up5 = Conv2DTranspose(32, (2, 2), strides=(2, 2), padding='same')(conv4)\n",
        "  #(512,512,23)\n",
        "  up5 = concatenate([up5,encoder.layers[2].output]) #up5(512,512,16) concatenate with (512,512,64) = (512,512,80)\n",
        "  conv5 = Conv2D(32, (3, 3), activation='relu', kernel_initializer='he_normal', padding='same')(up5)\n",
        "  drop5 = Dropout(0.1)(conv5)\n",
        "  conv5 = Conv2D(32, (3, 3), activation='relu', kernel_initializer='he_normal', padding='same')(drop5)\n",
        "\n",
        "  #(512,512,32)\n",
        "\n",
        "  outputs = Conv2D(23,(1,1), activation = 'softmax')(conv5)\n",
        "  model = Model(input= [encoder.layers[0].output], output = [outputs])\n",
        "  for i, layer in enumerate(model.layers):\n",
        "    if i< 19:\n",
        "      model.layers[i].trainable = False\n",
        "  model.compile(optimizer ='adam', loss = 'categorical_crossentropy', metrics = ['accuracy'])\n",
        "  model.summary()\n",
        "  return model"
      ],
      "execution_count": 4,
      "outputs": []
    },
    {
      "cell_type": "code",
      "metadata": {
        "id": "M5cgilVbs6LW",
        "colab_type": "code",
        "colab": {
          "base_uri": "https://localhost:8080/",
          "height": 1000
        },
        "outputId": "ee59bf60-9c7e-4d90-9d5f-714022febe04"
      },
      "source": [
        "\n",
        "unet = pretrained_encoder_unet()"
      ],
      "execution_count": 5,
      "outputs": [
        {
          "output_type": "stream",
          "text": [
            "Downloading data from https://github.com/fchollet/deep-learning-models/releases/download/v0.1/vgg16_weights_tf_dim_ordering_tf_kernels_notop.h5\n",
            "58892288/58889256 [==============================] - 5s 0us/step\n",
            "Model: \"model_1\"\n",
            "__________________________________________________________________________________________________\n",
            "Layer (type)                    Output Shape         Param #     Connected to                     \n",
            "==================================================================================================\n",
            "input_1 (InputLayer)            (None, 512, 512, 3)  0                                            \n",
            "__________________________________________________________________________________________________\n",
            "block1_conv1 (Conv2D)           (None, 512, 512, 64) 1792        input_1[0][0]                    \n",
            "__________________________________________________________________________________________________\n",
            "block1_conv2 (Conv2D)           (None, 512, 512, 64) 36928       block1_conv1[0][0]               \n",
            "__________________________________________________________________________________________________\n",
            "block1_pool (MaxPooling2D)      (None, 256, 256, 64) 0           block1_conv2[0][0]               \n",
            "__________________________________________________________________________________________________\n",
            "block2_conv1 (Conv2D)           (None, 256, 256, 128 73856       block1_pool[0][0]                \n",
            "__________________________________________________________________________________________________\n",
            "block2_conv2 (Conv2D)           (None, 256, 256, 128 147584      block2_conv1[0][0]               \n",
            "__________________________________________________________________________________________________\n",
            "block2_pool (MaxPooling2D)      (None, 128, 128, 128 0           block2_conv2[0][0]               \n",
            "__________________________________________________________________________________________________\n",
            "block3_conv1 (Conv2D)           (None, 128, 128, 256 295168      block2_pool[0][0]                \n",
            "__________________________________________________________________________________________________\n",
            "block3_conv2 (Conv2D)           (None, 128, 128, 256 590080      block3_conv1[0][0]               \n",
            "__________________________________________________________________________________________________\n",
            "block3_conv3 (Conv2D)           (None, 128, 128, 256 590080      block3_conv2[0][0]               \n",
            "__________________________________________________________________________________________________\n",
            "block3_pool (MaxPooling2D)      (None, 64, 64, 256)  0           block3_conv3[0][0]               \n",
            "__________________________________________________________________________________________________\n",
            "block4_conv1 (Conv2D)           (None, 64, 64, 512)  1180160     block3_pool[0][0]                \n",
            "__________________________________________________________________________________________________\n",
            "block4_conv2 (Conv2D)           (None, 64, 64, 512)  2359808     block4_conv1[0][0]               \n",
            "__________________________________________________________________________________________________\n",
            "block4_conv3 (Conv2D)           (None, 64, 64, 512)  2359808     block4_conv2[0][0]               \n",
            "__________________________________________________________________________________________________\n",
            "block4_pool (MaxPooling2D)      (None, 32, 32, 512)  0           block4_conv3[0][0]               \n",
            "__________________________________________________________________________________________________\n",
            "block5_conv1 (Conv2D)           (None, 32, 32, 512)  2359808     block4_pool[0][0]                \n",
            "__________________________________________________________________________________________________\n",
            "block5_conv2 (Conv2D)           (None, 32, 32, 512)  2359808     block5_conv1[0][0]               \n",
            "__________________________________________________________________________________________________\n",
            "block5_conv3 (Conv2D)           (None, 32, 32, 512)  2359808     block5_conv2[0][0]               \n",
            "__________________________________________________________________________________________________\n",
            "block5_pool (MaxPooling2D)      (None, 16, 16, 512)  0           block5_conv3[0][0]               \n",
            "__________________________________________________________________________________________________\n",
            "conv2d_transpose_1 (Conv2DTrans (None, 32, 32, 256)  524544      block5_pool[0][0]                \n",
            "__________________________________________________________________________________________________\n",
            "concatenate_1 (Concatenate)     (None, 32, 32, 768)  0           conv2d_transpose_1[0][0]         \n",
            "                                                                 block5_conv3[0][0]               \n",
            "__________________________________________________________________________________________________\n",
            "conv2d_1 (Conv2D)               (None, 32, 32, 256)  1769728     concatenate_1[0][0]              \n",
            "__________________________________________________________________________________________________\n",
            "dropout_1 (Dropout)             (None, 32, 32, 256)  0           conv2d_1[0][0]                   \n",
            "__________________________________________________________________________________________________\n",
            "conv2d_2 (Conv2D)               (None, 32, 32, 256)  590080      dropout_1[0][0]                  \n",
            "__________________________________________________________________________________________________\n",
            "conv2d_transpose_2 (Conv2DTrans (None, 64, 64, 128)  131200      conv2d_2[0][0]                   \n",
            "__________________________________________________________________________________________________\n",
            "concatenate_2 (Concatenate)     (None, 64, 64, 640)  0           conv2d_transpose_2[0][0]         \n",
            "                                                                 block4_conv3[0][0]               \n",
            "__________________________________________________________________________________________________\n",
            "conv2d_3 (Conv2D)               (None, 64, 64, 128)  737408      concatenate_2[0][0]              \n",
            "__________________________________________________________________________________________________\n",
            "dropout_2 (Dropout)             (None, 64, 64, 128)  0           conv2d_3[0][0]                   \n",
            "__________________________________________________________________________________________________\n",
            "conv2d_4 (Conv2D)               (None, 64, 64, 128)  147584      dropout_2[0][0]                  \n",
            "__________________________________________________________________________________________________\n",
            "conv2d_transpose_3 (Conv2DTrans (None, 128, 128, 64) 32832       conv2d_4[0][0]                   \n",
            "__________________________________________________________________________________________________\n",
            "concatenate_3 (Concatenate)     (None, 128, 128, 320 0           conv2d_transpose_3[0][0]         \n",
            "                                                                 block3_conv3[0][0]               \n",
            "__________________________________________________________________________________________________\n",
            "conv2d_5 (Conv2D)               (None, 128, 128, 64) 184384      concatenate_3[0][0]              \n",
            "__________________________________________________________________________________________________\n",
            "dropout_3 (Dropout)             (None, 128, 128, 64) 0           conv2d_5[0][0]                   \n",
            "__________________________________________________________________________________________________\n",
            "conv2d_6 (Conv2D)               (None, 128, 128, 64) 36928       dropout_3[0][0]                  \n",
            "__________________________________________________________________________________________________\n",
            "conv2d_transpose_4 (Conv2DTrans (None, 256, 256, 32) 8224        conv2d_6[0][0]                   \n",
            "__________________________________________________________________________________________________\n",
            "concatenate_4 (Concatenate)     (None, 256, 256, 160 0           conv2d_transpose_4[0][0]         \n",
            "                                                                 block2_conv2[0][0]               \n",
            "__________________________________________________________________________________________________\n",
            "conv2d_7 (Conv2D)               (None, 256, 256, 32) 46112       concatenate_4[0][0]              \n",
            "__________________________________________________________________________________________________\n",
            "dropout_4 (Dropout)             (None, 256, 256, 32) 0           conv2d_7[0][0]                   \n",
            "__________________________________________________________________________________________________\n",
            "conv2d_8 (Conv2D)               (None, 256, 256, 32) 9248        dropout_4[0][0]                  \n",
            "__________________________________________________________________________________________________\n",
            "conv2d_transpose_5 (Conv2DTrans (None, 512, 512, 32) 4128        conv2d_8[0][0]                   \n",
            "__________________________________________________________________________________________________\n",
            "concatenate_5 (Concatenate)     (None, 512, 512, 96) 0           conv2d_transpose_5[0][0]         \n",
            "                                                                 block1_conv2[0][0]               \n",
            "__________________________________________________________________________________________________\n",
            "conv2d_9 (Conv2D)               (None, 512, 512, 32) 27680       concatenate_5[0][0]              \n",
            "__________________________________________________________________________________________________\n",
            "dropout_5 (Dropout)             (None, 512, 512, 32) 0           conv2d_9[0][0]                   \n",
            "__________________________________________________________________________________________________\n",
            "conv2d_10 (Conv2D)              (None, 512, 512, 32) 9248        dropout_5[0][0]                  \n",
            "__________________________________________________________________________________________________\n",
            "conv2d_11 (Conv2D)              (None, 512, 512, 23) 759         conv2d_10[0][0]                  \n",
            "==================================================================================================\n",
            "Total params: 18,974,775\n",
            "Trainable params: 4,260,087\n",
            "Non-trainable params: 14,714,688\n",
            "__________________________________________________________________________________________________\n"
          ],
          "name": "stdout"
        },
        {
          "output_type": "stream",
          "text": [
            "/usr/local/lib/python3.6/dist-packages/ipykernel_launcher.py:53: UserWarning: Update your `Model` call to the Keras 2 API: `Model(inputs=[<tf.Tenso..., outputs=[<tf.Tenso...)`\n"
          ],
          "name": "stderr"
        }
      ]
    },
    {
      "cell_type": "code",
      "metadata": {
        "id": "QWtU5vwZs-pd",
        "colab_type": "code",
        "colab": {}
      },
      "source": [
        "from keras.callbacks import ModelCheckpoint\n",
        "model_checkpoint = ModelCheckpoint(filepath = '/content/model.ckpt',\n",
        "                                   save_weights_only =True,\n",
        "                                   monitor = 'val_accuracy',\n",
        "                                   mode = 'max',\n",
        "                                   save_best_only =  True)"
      ],
      "execution_count": 6,
      "outputs": []
    },
    {
      "cell_type": "code",
      "metadata": {
        "id": "YfJYxlGbw_t6",
        "colab_type": "code",
        "colab": {}
      },
      "source": [
        "\n",
        "history = model2.fit(train_generator_, epochs =10,steps_per_epoch= 100, \n",
        "                              callbacks = [model_checkpoint], validation_data = val_generator_, validation_steps = 10)\n",
        "\n"
      ],
      "execution_count": null,
      "outputs": []
    },
    {
      "cell_type": "code",
      "metadata": {
        "id": "iROP96_txCUp",
        "colab_type": "code",
        "colab": {
          "base_uri": "https://localhost:8080/",
          "height": 239
        },
        "outputId": "025e3f0d-bc21-4856-80b1-4028b7b59126"
      },
      "source": [
        "import matplotlib.pyplot as plt\n",
        "import numpy as np\n",
        "b = next(train_generator_)\n",
        "\n",
        "fig, axis = plt.subplots(1,2,figsize = (12,9))\n",
        "axis[0].imshow(b[0][0,:,:,0])\n",
        "axis[1].imshow(np.argmax(b[1][0,:,:,:,], axis = 2))"
      ],
      "execution_count": 9,
      "outputs": [
        {
          "output_type": "error",
          "ename": "StopIteration",
          "evalue": "ignored",
          "traceback": [
            "\u001b[0;31m---------------------------------------------------------------------------\u001b[0m",
            "\u001b[0;31mStopIteration\u001b[0m                             Traceback (most recent call last)",
            "\u001b[0;32m<ipython-input-9-0f824d19490a>\u001b[0m in \u001b[0;36m<module>\u001b[0;34m()\u001b[0m\n\u001b[1;32m      1\u001b[0m \u001b[0;32mimport\u001b[0m \u001b[0mmatplotlib\u001b[0m\u001b[0;34m.\u001b[0m\u001b[0mpyplot\u001b[0m \u001b[0;32mas\u001b[0m \u001b[0mplt\u001b[0m\u001b[0;34m\u001b[0m\u001b[0;34m\u001b[0m\u001b[0m\n\u001b[1;32m      2\u001b[0m \u001b[0;32mimport\u001b[0m \u001b[0mnumpy\u001b[0m \u001b[0;32mas\u001b[0m \u001b[0mnp\u001b[0m\u001b[0;34m\u001b[0m\u001b[0;34m\u001b[0m\u001b[0m\n\u001b[0;32m----> 3\u001b[0;31m \u001b[0mb\u001b[0m \u001b[0;34m=\u001b[0m \u001b[0mnext\u001b[0m\u001b[0;34m(\u001b[0m\u001b[0mtrain_generator_\u001b[0m\u001b[0;34m)\u001b[0m\u001b[0;34m\u001b[0m\u001b[0;34m\u001b[0m\u001b[0m\n\u001b[0m\u001b[1;32m      4\u001b[0m \u001b[0;34m\u001b[0m\u001b[0m\n\u001b[1;32m      5\u001b[0m \u001b[0mfig\u001b[0m\u001b[0;34m,\u001b[0m \u001b[0maxis\u001b[0m \u001b[0;34m=\u001b[0m \u001b[0mplt\u001b[0m\u001b[0;34m.\u001b[0m\u001b[0msubplots\u001b[0m\u001b[0;34m(\u001b[0m\u001b[0;36m1\u001b[0m\u001b[0;34m,\u001b[0m\u001b[0;36m2\u001b[0m\u001b[0;34m,\u001b[0m\u001b[0mfigsize\u001b[0m \u001b[0;34m=\u001b[0m \u001b[0;34m(\u001b[0m\u001b[0;36m12\u001b[0m\u001b[0;34m,\u001b[0m\u001b[0;36m9\u001b[0m\u001b[0;34m)\u001b[0m\u001b[0;34m)\u001b[0m\u001b[0;34m\u001b[0m\u001b[0;34m\u001b[0m\u001b[0m\n",
            "\u001b[0;31mStopIteration\u001b[0m: "
          ]
        }
      ]
    },
    {
      "cell_type": "code",
      "metadata": {
        "id": "Cn5vnxqvxD5N",
        "colab_type": "code",
        "colab": {}
      },
      "source": [
        ""
      ],
      "execution_count": null,
      "outputs": []
    }
  ]
}